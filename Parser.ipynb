{
 "cells": [
  {
   "cell_type": "markdown",
   "metadata": {},
   "source": [
    "Initializations and declearations"
   ]
  },
  {
   "cell_type": "code",
   "execution_count": 35,
   "metadata": {},
   "outputs": [],
   "source": [
    "import ExParser as exp\n",
    "import numpy as np\n",
    "import PolySolver as ps\n",
    "import sympy as sp"
   ]
  },
  {
   "cell_type": "code",
   "execution_count": 36,
   "metadata": {},
   "outputs": [],
   "source": [
    "parser = exp.ExParser()\n",
    "psolver = ps.PolySolver()"
   ]
  },
  {
   "cell_type": "markdown",
   "metadata": {},
   "source": [
    "Expressions solving examples  "
   ]
  },
  {
   "cell_type": "code",
   "execution_count": 37,
   "metadata": {},
   "outputs": [
    {
     "name": "stdout",
     "output_type": "stream",
     "text": [
      "Expression: sin(2.5)+4*cos(2)+2\n",
      "Result: 0.9338847979153868\n"
     ]
    }
   ],
   "source": [
    "# Expression 3\n",
    "poly_value = 3\n",
    "expression = \"sin(2.5)+4*cos(2)+2\"\n",
    "result = parser.parseExpression(expression,None)\n",
    "print(f\"Expression: {expression}\")\n",
    "print(f\"Result: {result}\")"
   ]
  },
  {
   "cell_type": "code",
   "execution_count": 38,
   "metadata": {},
   "outputs": [
    {
     "name": "stdout",
     "output_type": "stream",
     "text": [
      "Expression: 3.5 + 4.2 * (2 * 1) + (4 * 2)\n",
      "Result: 19.9\n",
      "Expression: 3.5^4 * 14.2 + (2 * 1) + (4^2 * 2)\n",
      "Result: 2164.8875\n"
     ]
    }
   ],
   "source": [
    "expression = \"3.5 + 4.2 * (2 * 1) + (4 * 2)\"\n",
    "result = parser.parseExpression(expression,None)\n",
    "print(f\"Expression: {expression}\")\n",
    "print(f\"Result: {result}\")\n",
    "# Expression 2\n",
    "expression = \"3.5^4 * 14.2 + (2 * 1) + (4^2 * 2)\"\n",
    "result = parser.parseExpression(expression,None)\n",
    "print(f\"Expression: {expression}\")\n",
    "print(f\"Result: {result}\")"
   ]
  },
  {
   "cell_type": "markdown",
   "metadata": {},
   "source": [
    "Calculate expression on the basis of polynomial."
   ]
  },
  {
   "cell_type": "code",
   "execution_count": 39,
   "metadata": {},
   "outputs": [
    {
     "name": "stdout",
     "output_type": "stream",
     "text": [
      "Expression: 5 + 4 * (2 * 1) + (x^3 * 2)\n",
      "Result (x = 3): 67.0\n"
     ]
    }
   ],
   "source": [
    "expression = \"5 + 4 * (2 * 1) + (x^3 * 2)\"\n",
    "poly_value = 3  # Set the value of the variable 'x'\n",
    "result = parser.parseExpression(expression,None, poly_value)\n",
    "print(f\"Expression: {expression}\")\n",
    "print(f\"Result (x = {poly_value}): {result}\")"
   ]
  },
  {
   "cell_type": "markdown",
   "metadata": {},
   "source": [
    "Matrix Calculations"
   ]
  },
  {
   "cell_type": "code",
   "execution_count": 40,
   "metadata": {},
   "outputs": [
    {
     "name": "stdout",
     "output_type": "stream",
     "text": [
      "Result of expression 1: [[29 32]\n",
      " [53 62]]\n",
      "Result of expression 2 : [[ 5. 20.]\n",
      " [45. 80.]]\n"
     ]
    }
   ],
   "source": [
    "# Example of solving matrix\n",
    "# code takes Capital alphabats as matrix id \n",
    "expression = \"A * B + C\"\n",
    "# Define matrices A, B, and C using NumPy arrays\n",
    "A = np.array([[1, 2], [3, 4]])\n",
    "B = np.array([[2, 6], [9, 8]])\n",
    "C = np.array([[9, 10], [11, 12]])\n",
    "matrix_values = {\"A\": A, \"B\": B, \"C\": C}\n",
    "\n",
    "result = parser.parseExpression(expression, matrix_values,None)\n",
    "print(f\"Result of expression 1: {result}\")\n",
    "\n",
    "# Expression 2\n",
    "expression = \"A^3+B * 2\"\n",
    "# Define matrices A, B, and C using NumPy arrays\n",
    "A = np.array([[1, 2], [3, 4]])\n",
    "B = np.array([[2, 6], [9, 8]])\n",
    "C = np.array([[9, 10], [11, 12]])\n",
    "matrix_values = {\"A\": A, \"B\": B, \"C\": C}\n",
    "\n",
    "result = parser.parseExpression(expression, matrix_values,None)\n",
    "print(f\"Result of expression 2 : {result}\")"
   ]
  },
  {
   "cell_type": "markdown",
   "metadata": {},
   "source": [
    "Check if the matrix is a root of its polynomial"
   ]
  },
  {
   "cell_type": "code",
   "execution_count": 41,
   "metadata": {},
   "outputs": [
    {
     "name": "stdout",
     "output_type": "stream",
     "text": [
      "Matrix A is a root of its characteristic polynomial.\n",
      "Matrix B is a root of its characteristic polynomial.\n",
      "Matrix C is a root of its characteristic polynomial.\n"
     ]
    }
   ],
   "source": [
    "result = parser.is_root_of_CP(A)\n",
    "\n",
    "if result:\n",
    "    print(\"Matrix A is a root of its characteristic polynomial.\")\n",
    "else:\n",
    "    print(\"Matrix A is not a root of its characteristic polynomial.\")\n",
    "\n",
    "result = parser.is_root_of_CP(B)\n",
    "\n",
    "if result:\n",
    "    print(\"Matrix B is a root of its characteristic polynomial.\")\n",
    "else:\n",
    "    print(\"Matrix B is not a root of its characteristic polynomial.\")\n",
    "\n",
    "result = parser.is_root_of_CP(C)\n",
    "\n",
    "if result:\n",
    "    print(\"Matrix C is a root of its characteristic polynomial.\")\n",
    "else:\n",
    "    print(\"Matrix C is not a root of its characteristic polynomial.\")\n"
   ]
  },
  {
   "cell_type": "markdown",
   "metadata": {},
   "source": [
    "Finding the degree of Polynomial"
   ]
  },
  {
   "cell_type": "code",
   "execution_count": 42,
   "metadata": {},
   "outputs": [
    {
     "name": "stdout",
     "output_type": "stream",
     "text": [
      "Degree of Polynomial: 3\n"
     ]
    }
   ],
   "source": [
    "expression = \"3.5 + 4.2 * (x^3 * 1) + (x * 2)\"\n",
    "roots = psolver.polynomial_degree(expression)\n",
    "print(f\"Degree of Polynomial: {roots}\")"
   ]
  },
  {
   "cell_type": "markdown",
   "metadata": {},
   "source": [
    "Solving Polynomials"
   ]
  },
  {
   "cell_type": "code",
   "execution_count": 43,
   "metadata": {},
   "outputs": [
    {
     "name": "stdout",
     "output_type": "stream",
     "text": [
      "Roots of expression 1: [-5.95000000000000]\n",
      "Roots of expression 2: [0.581138830084190, -2.58113883008419]\n"
     ]
    }
   ],
   "source": [
    "expression = \"3.5 + 4.2 * (2 * 1) + (x * 2)\"\n",
    "roots = psolver.find_roots(expression)\n",
    "print(f\"Roots of expression 1: {roots}\")\n",
    "\n",
    "expression = \"4*x^2+8*x-6\"\n",
    "roots = psolver.find_roots(expression)\n",
    "print(f\"Roots of expression 2: {roots}\")"
   ]
  },
  {
   "cell_type": "markdown",
   "metadata": {},
   "source": [
    "Finding the derivation of polynomial"
   ]
  },
  {
   "cell_type": "code",
   "execution_count": 44,
   "metadata": {},
   "outputs": [
    {
     "name": "stdout",
     "output_type": "stream",
     "text": [
      "Result 1: 8*x + 2\n",
      "Result 2: 4\n",
      "Result 3: 36*x^2 + 2\n"
     ]
    }
   ],
   "source": [
    "expression = \"4*(x^2) + 2*x+3\"\n",
    "result_exp = psolver.calcExpDerivative(expression)\n",
    "print(f\"Result 1: {result_exp}\")\n",
    "expression = \"4*x+6\"\n",
    "result_exp = psolver.calcExpDerivative(expression)\n",
    "print(f\"Result 2: {result_exp}\")\n",
    "expression = \"3*x^3+9*(x^3) + 2*x+3\"\n",
    "result_exp = psolver.calcExpDerivative(expression)\n",
    "print(f\"Result 3: {result_exp}\")"
   ]
  },
  {
   "cell_type": "markdown",
   "metadata": {},
   "source": [
    "Finding Jacobians of the given points"
   ]
  },
  {
   "cell_type": "code",
   "execution_count": 45,
   "metadata": {},
   "outputs": [
    {
     "name": "stdout",
     "output_type": "stream",
     "text": [
      "Jacobian Matrix Hu:\n",
      "Matrix([[2*x*y + 7, x**2], [5, -sin(y)]])\n"
     ]
    }
   ],
   "source": [
    "\n",
    "x, y = sp.symbols('x y')\n",
    "f = x**2 * y + 7*x\n",
    "g = 5*x + sp.cos(y)\n",
    "Jacobian_matrix = psolver.compute_jacobian_matrix(x,y,f,g)\n",
    "# Print the Jacobian matrix\n",
    "print(\"Jacobian Matrix Hu:\")\n",
    "print(Jacobian_matrix)"
   ]
  }
 ],
 "metadata": {
  "kernelspec": {
   "display_name": "Python 3",
   "language": "python",
   "name": "python3"
  },
  "language_info": {
   "codemirror_mode": {
    "name": "ipython",
    "version": 3
   },
   "file_extension": ".py",
   "mimetype": "text/x-python",
   "name": "python",
   "nbconvert_exporter": "python",
   "pygments_lexer": "ipython3",
   "version": "3.11.7"
  }
 },
 "nbformat": 4,
 "nbformat_minor": 2
}
